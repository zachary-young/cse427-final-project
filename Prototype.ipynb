{
 "cells": [
  {
   "cell_type": "code",
   "execution_count": 160,
   "metadata": {},
   "outputs": [
    {
     "name": "stdout",
     "output_type": "stream",
     "text": [
      "Collecting midiutil\n",
      "  Downloading MIDIUtil-1.2.1.tar.gz (1.0 MB)\n",
      "\u001b[K     |████████████████████████████████| 1.0 MB 28.8 MB/s eta 0:00:01\n",
      "\u001b[?25hBuilding wheels for collected packages: midiutil\n",
      "  Building wheel for midiutil (setup.py) ... \u001b[?25ldone\n",
      "\u001b[?25h  Created wheel for midiutil: filename=MIDIUtil-1.2.1-py3-none-any.whl size=54566 sha256=c95451b8a6a55c082f776053dce84c41b449e4cccb92659b29822e9f12212563\n",
      "  Stored in directory: /home/jovyan/.cache/pip/wheels/e3/97/cd/a677b61a76d575f373e2e10302f1d9106507fea6dd1320df03\n",
      "Successfully built midiutil\n",
      "Installing collected packages: midiutil\n",
      "Successfully installed midiutil-1.2.1\n"
     ]
    }
   ],
   "source": [
    "! pip install midiutil"
   ]
  },
  {
   "cell_type": "code",
   "execution_count": 161,
   "metadata": {},
   "outputs": [],
   "source": [
    "from scipy.io import wavfile\n",
    "from scipy.fft import fft, fftfreq\n",
    "from scipy.signal import find_peaks\n",
    "import matplotlib.pyplot as plt\n",
    "from midiutil import MIDIFile\n",
    "import numpy as np"
   ]
  },
  {
   "cell_type": "code",
   "execution_count": 19,
   "metadata": {},
   "outputs": [
    {
     "name": "stderr",
     "output_type": "stream",
     "text": [
      "/opt/conda/lib/python3.7/site-packages/ipykernel_launcher.py:1: WavFileWarning: Chunk (non-data) not understood, skipping it.\n",
      "  \"\"\"Entry point for launching an IPython kernel.\n"
     ]
    }
   ],
   "source": [
    "samplerate, data = wavfile.read(\"clairenew.wav\")\n"
   ]
  },
  {
   "cell_type": "code",
   "execution_count": 4,
   "metadata": {},
   "outputs": [
    {
     "data": {
      "text/plain": [
       "48000"
      ]
     },
     "execution_count": 4,
     "metadata": {},
     "output_type": "execute_result"
    }
   ],
   "source": [
    "samplerate"
   ]
  },
  {
   "cell_type": "code",
   "execution_count": 6,
   "metadata": {},
   "outputs": [
    {
     "data": {
      "text/plain": [
       "array([[-287,  148],\n",
       "       [-325,   75],\n",
       "       [-376,   -7],\n",
       "       ...,\n",
       "       [-465, -855],\n",
       "       [-482, -824],\n",
       "       [-492, -787]], dtype=int16)"
      ]
     },
     "execution_count": 6,
     "metadata": {},
     "output_type": "execute_result"
    }
   ],
   "source": [
    "data"
   ]
  },
  {
   "cell_type": "code",
   "execution_count": 17,
   "metadata": {},
   "outputs": [
    {
     "data": {
      "text/plain": [
       "array([ -69.5, -125. , -191.5, ..., -660. , -653. , -639.5])"
      ]
     },
     "execution_count": 17,
     "metadata": {},
     "output_type": "execute_result"
    }
   ],
   "source": [
    "audio = data.mean(axis=1)\n",
    "audio"
   ]
  },
  {
   "cell_type": "code",
   "execution_count": 16,
   "metadata": {},
   "outputs": [
    {
     "data": {
      "text/plain": [
       "[<matplotlib.lines.Line2D at 0x7f69b8e28210>]"
      ]
     },
     "execution_count": 16,
     "metadata": {},
     "output_type": "execute_result"
    },
    {
     "data": {
      "image/png": "[encoded data removed]",
      "text/plain": [
       "<Figure size 432x288 with 1 Axes>"
      ]
     },
     "metadata": {
      "needs_background": "light"
     },
     "output_type": "display_data"
    }
   ],
   "source": [
    "plt.plot(audio)"
   ]
  },
  {
   "cell_type": "code",
   "execution_count": 46,
   "metadata": {},
   "outputs": [],
   "source": [
    "yf = fft(audio)\n",
    "xf = fftfreq(len(audio), 1 / samplerate)"
   ]
  },
  {
   "cell_type": "code",
   "execution_count": 37,
   "metadata": {},
   "outputs": [
    {
     "data": {
      "text/plain": [
       "array([ 0.        ,  0.07618262,  0.15236523, ..., -0.22854785,\n",
       "       -0.15236523, -0.07618262])"
      ]
     },
     "execution_count": 37,
     "metadata": {},
     "output_type": "execute_result"
    }
   ],
   "source": [
    "xf"
   ]
  },
  {
   "cell_type": "code",
   "execution_count": 38,
   "metadata": {},
   "outputs": [
    {
     "data": {
      "text/plain": [
       "array([  9831.            -0.j        ,   1113.09593773+16619.67426197j,\n",
       "       -14724.46349034-10923.12202061j, ...,\n",
       "         3204.5961988  -9264.16279861j, -14724.46349034+10923.12202061j,\n",
       "         1113.09593773-16619.67426197j])"
      ]
     },
     "execution_count": 38,
     "metadata": {},
     "output_type": "execute_result"
    }
   ],
   "source": [
    "yf"
   ]
  },
  {
   "cell_type": "code",
   "execution_count": 47,
   "metadata": {},
   "outputs": [
    {
     "data": {
      "text/plain": [
       "[<matplotlib.lines.Line2D at 0x7f69b88c0350>]"
      ]
     },
     "execution_count": 47,
     "metadata": {},
     "output_type": "execute_result"
    },
    {
     "data": {
      "image/png": "[encoded data removed]",
      "text/plain": [
       "<Figure size 432x288 with 1 Axes>"
      ]
     },
     "metadata": {
      "needs_background": "light"
     },
     "output_type": "display_data"
    }
   ],
   "source": [
    "plt.plot(xf, np.abs(yf))"
   ]
  },
  {
   "cell_type": "code",
   "execution_count": 145,
   "metadata": {},
   "outputs": [],
   "source": [
    "midiTable = {\n",
    "    8.18: 0,\n",
    "    8.66: 1,\n",
    "    9.18: 2,\n",
    "    9.72: 3,\n",
    "    10.3: 4,\n",
    "    10.91: 5,\n",
    "    11.56: 6,\n",
    "    12.25: 7,\n",
    "    12.98: 8,\n",
    "    13.75: 9,\n",
    "    14.57: 10,\n",
    "    15.43: 11,\n",
    "    16.35: 12,\n",
    "    17.32: 13,\n",
    "    18.35: 14,\n",
    "    19.45: 15,\n",
    "    20.6: 16,\n",
    "    21.83: 17,\n",
    "    23.12: 18,\n",
    "    24.5: 19,\n",
    "    25.96: 20,\n",
    "    27.5: 21,\n",
    "    29.14: 22,\n",
    "    30.87: 23,\n",
    "    32.7: 24,\n",
    "    34.65: 25,\n",
    "    36.71: 26,\n",
    "    38.89: 27,\n",
    "    41.2: 28,\n",
    "    43.65: 29,\n",
    "    46.25: 30,\n",
    "    49.0: 31,\n",
    "    51.91: 32,\n",
    "    55.0: 33,\n",
    "    58.27: 34,\n",
    "    61.74: 35,\n",
    "    65.41: 36,\n",
    "    69.3: 37,\n",
    "    73.42: 38,\n",
    "    77.78: 39,\n",
    "    82.41: 40,\n",
    "    87.31: 41,\n",
    "    92.5: 42,\n",
    "    98.0: 43,\n",
    "    103.83: 44,\n",
    "    110.0: 45,\n",
    "    116.54: 46,\n",
    "    123.47: 47,\n",
    "    130.81: 48,\n",
    "    138.59: 49,\n",
    "    146.83: 50,\n",
    "    155.56: 51,\n",
    "    164.81: 52,\n",
    "    174.61: 53,\n",
    "    185.0: 54,\n",
    "    196.0: 55,\n",
    "    207.65: 56,\n",
    "    220.0: 57,\n",
    "    233.08: 58,\n",
    "    246.94: 59,\n",
    "    261.63: 60,\n",
    "    277.18: 61,\n",
    "    293.66: 62,\n",
    "    311.13: 63,\n",
    "    329.63: 64,\n",
    "    349.23: 65,\n",
    "    369.99: 66,\n",
    "    392.0: 67,\n",
    "    415.3: 68,\n",
    "    440.0: 69,\n",
    "    466.16: 70,\n",
    "    493.88: 71,\n",
    "    523.25: 72,\n",
    "    554.37: 73,\n",
    "    587.33: 74,\n",
    "    622.25: 75,\n",
    "    659.26: 76,\n",
    "    698.46: 77,\n",
    "    739.99: 78,\n",
    "    783.99: 79,\n",
    "    830.61: 80,\n",
    "    880.0: 81,\n",
    "    932.33: 82,\n",
    "    987.77: 83,\n",
    "    1046.5: 84,\n",
    "    1108.73: 85,\n",
    "    1174.66: 86,\n",
    "    1244.51: 87,\n",
    "    1318.51: 88,\n",
    "    1396.91: 89,\n",
    "    1479.98: 90,\n",
    "    1567.98: 91,\n",
    "    1661.22: 92,\n",
    "    1760.0: 93,\n",
    "    1864.66: 94,\n",
    "    1975.53: 95,\n",
    "    2093.0: 96,\n",
    "    2217.46: 97,\n",
    "    2349.32: 98,\n",
    "    2489.02: 99,\n",
    "    2637.02: 100,\n",
    "    2793.83: 101,\n",
    "    2959.96: 102,\n",
    "    3135.96: 103,\n",
    "    3322.44: 104,\n",
    "    3520.0: 105,\n",
    "    3729.31: 106,\n",
    "    3951.07: 107,\n",
    "    4186.01: 108,\n",
    "    4434.92: 109,\n",
    "    4698.64: 110,\n",
    "    4978.03: 111,\n",
    "    5274.04: 112,\n",
    "    5587.65: 113,\n",
    "    5919.91: 114,\n",
    "    6271.93: 115,\n",
    "    6644.88: 116,\n",
    "    7040.0: 117,\n",
    "    7458.62: 118,\n",
    "    7902.13: 119,\n",
    "    8372.02: 120,\n",
    "    8869.84: 121,\n",
    "    9397.27: 122,\n",
    "    9956.06: 123,\n",
    "    10548.08: 124,\n",
    "    11175.3: 125,\n",
    "    11839.82: 126,\n",
    "    12543.85: 127\n",
    "}\n",
    "\n",
    "midiFreqs = list(midiTable.keys())"
   ]
  },
  {
   "cell_type": "code",
   "execution_count": 146,
   "metadata": {},
   "outputs": [],
   "source": [
    "#https://stackoverflow.com/questions/2566412/find-nearest-value-in-numpy-array\n",
    "\n",
    "def findNearestMidiPitch(freq):\n",
    "    idx = np.searchsorted(midiFreqs, freq, side=\"left\")\n",
    "    if idx > 0 and (idx == len(midiFreqs) or np.abs(freq - midiFreqs[idx-1]) < np.abs(freq - midiFreqs[idx])):\n",
    "        return midiTable[midiFreqs[idx-1]]\n",
    "    else:\n",
    "        return midiTable[midiFreqs[idx]]"
   ]
  },
  {
   "cell_type": "code",
   "execution_count": 148,
   "metadata": {},
   "outputs": [
    {
     "data": {
      "text/plain": [
       "69"
      ]
     },
     "execution_count": 148,
     "metadata": {},
     "output_type": "execute_result"
    }
   ],
   "source": [
    "findNearestMidiPitch(445)"
   ]
  },
  {
   "cell_type": "code",
   "execution_count": 152,
   "metadata": {},
   "outputs": [
    {
     "data": {
      "text/plain": [
       "[{69},\n",
       " {69, 75},\n",
       " {72, 75},\n",
       " {72, 75},\n",
       " set(),\n",
       " {72, 77},\n",
       " {73, 75},\n",
       " {77},\n",
       " {73, 77},\n",
       " {73, 75, 77},\n",
       " {73, 75},\n",
       " {75},\n",
       " {75},\n",
       " {75},\n",
       " set(),\n",
       " {75},\n",
       " set(),\n",
       " set(),\n",
       " set(),\n",
       " set(),\n",
       " set(),\n",
       " set(),\n",
       " set(),\n",
       " set(),\n",
       " set(),\n",
       " set(),\n",
       " set(),\n",
       " set(),\n",
       " set(),\n",
       " set(),\n",
       " set(),\n",
       " set(),\n",
       " set(),\n",
       " set(),\n",
       " set(),\n",
       " set(),\n",
       " set(),\n",
       " {68, 77},\n",
       " {77},\n",
       " set(),\n",
       " {68, 71, 73},\n",
       " {73},\n",
       " {70, 73},\n",
       " set(),\n",
       " {73},\n",
       " {70, 75},\n",
       " {68, 73, 75},\n",
       " {73, 75},\n",
       " set(),\n",
       " {70, 72, 75},\n",
       " {70, 73},\n",
       " {73},\n",
       " {70, 73, 75},\n",
       " {70, 73},\n",
       " set(),\n",
       " {70, 73},\n",
       " {77},\n",
       " {73, 77},\n",
       " {77},\n",
       " {77},\n",
       " set(),\n",
       " set(),\n",
       " set(),\n",
       " {77},\n",
       " set(),\n",
       " set(),\n",
       " set(),\n",
       " set(),\n",
       " {73},\n",
       " {73},\n",
       " {73},\n",
       " {73},\n",
       " {73},\n",
       " {73},\n",
       " {73},\n",
       " set(),\n",
       " set(),\n",
       " {66},\n",
       " {66},\n",
       " {66},\n",
       " {63, 66},\n",
       " {63, 66, 68, 72},\n",
       " {66, 68, 72},\n",
       " {66, 72},\n",
       " {68, 72},\n",
       " {70, 73},\n",
       " {70, 73},\n",
       " {63, 70, 73},\n",
       " {70, 73},\n",
       " {73},\n",
       " {68, 73},\n",
       " {70},\n",
       " set(),\n",
       " {68, 72},\n",
       " {72},\n",
       " set(),\n",
       " set(),\n",
       " set(),\n",
       " set(),\n",
       " set(),\n",
       " set(),\n",
       " set(),\n",
       " set(),\n",
       " set(),\n",
       " set(),\n",
       " set(),\n",
       " set(),\n",
       " set(),\n",
       " set(),\n",
       " set(),\n",
       " set(),\n",
       " set(),\n",
       " set(),\n",
       " set(),\n",
       " set(),\n",
       " set(),\n",
       " set(),\n",
       " set(),\n",
       " set(),\n",
       " set(),\n",
       " set(),\n",
       " set(),\n",
       " {63},\n",
       " {61},\n",
       " set(),\n",
       " {70},\n",
       " {70},\n",
       " {70},\n",
       " {73},\n",
       " {63, 70, 72},\n",
       " {72},\n",
       " {71}]"
      ]
     },
     "execution_count": 152,
     "metadata": {},
     "output_type": "execute_result"
    },
    {
     "data": {
      "image/png": "[encoded data removed]",
      "text/plain": [
       "<Figure size 432x288 with 1 Axes>"
      ]
     },
     "metadata": {
      "needs_background": "light"
     },
     "output_type": "display_data"
    }
   ],
   "source": [
    "# https://stackoverflow.com/questions/53797199/perform-fft-for-every-second-on-wav-file-with-python\n",
    "\n",
    "interval = .1\n",
    "duration = len(data)/samplerate\n",
    "frames = int(duration / interval) + 1\n",
    "frameLength = int(samplerate * interval)\n",
    "\n",
    "# np.set_printoptions(threshold=np.inf)\n",
    "\n",
    "frameNotes = []\n",
    "# loop through each frame\n",
    "# for i in range(0, frames):\n",
    "for i in range(0, frames):\n",
    "    start = i * frameLength\n",
    "    end = (i + 1) * frameLength\n",
    "    frameData = audio[start:end]\n",
    "    yf = fft(frameData)\n",
    "    xf = fftfreq(len(frameData), 1 / samplerate)\n",
    "    plt.plot(xf, np.abs(yf))\n",
    "    indices, properties = find_peaks(yf, threshold=200000, distance=5)\n",
    "    peakFreqs = set()\n",
    "    for j in indices:\n",
    "        peakFreqs.add(findNearestMidiPitch(np.abs(xf[j])))\n",
    "    frameNotes.append(peakFreqs)\n",
    "frameNotes"
   ]
  },
  {
   "cell_type": "code",
   "execution_count": 157,
   "metadata": {},
   "outputs": [
    {
     "data": {
      "text/plain": [
       "[{'pitch': 69, 'start': 0, 'duration': 2},\n",
       " {'pitch': 75, 'start': 1, 'duration': 3},\n",
       " {'pitch': 72, 'start': 2, 'duration': 2},\n",
       " {'pitch': 72, 'start': 5, 'duration': 1},\n",
       " {'pitch': 77, 'start': 5, 'duration': 1},\n",
       " {'pitch': 73, 'start': 6, 'duration': 1},\n",
       " {'pitch': 75, 'start': 6, 'duration': 1},\n",
       " {'pitch': 77, 'start': 7, 'duration': 3},\n",
       " {'pitch': 73, 'start': 8, 'duration': 3},\n",
       " {'pitch': 75, 'start': 9, 'duration': 5},\n",
       " {'pitch': 75, 'start': 15, 'duration': 1},\n",
       " {'pitch': 68, 'start': 37, 'duration': 1},\n",
       " {'pitch': 77, 'start': 37, 'duration': 2},\n",
       " {'pitch': 68, 'start': 40, 'duration': 1},\n",
       " {'pitch': 71, 'start': 40, 'duration': 1},\n",
       " {'pitch': 73, 'start': 40, 'duration': 3},\n",
       " {'pitch': 70, 'start': 42, 'duration': 1},\n",
       " {'pitch': 73, 'start': 44, 'duration': 1},\n",
       " {'pitch': 70, 'start': 45, 'duration': 1},\n",
       " {'pitch': 68, 'start': 46, 'duration': 1},\n",
       " {'pitch': 75, 'start': 45, 'duration': 3},\n",
       " {'pitch': 73, 'start': 46, 'duration': 2},\n",
       " {'pitch': 72, 'start': 49, 'duration': 1},\n",
       " {'pitch': 75, 'start': 49, 'duration': 1},\n",
       " {'pitch': 70, 'start': 49, 'duration': 2},\n",
       " {'pitch': 75, 'start': 52, 'duration': 1},\n",
       " {'pitch': 73, 'start': 50, 'duration': 4},\n",
       " {'pitch': 70, 'start': 52, 'duration': 2},\n",
       " {'pitch': 73, 'start': 55, 'duration': 1},\n",
       " {'pitch': 70, 'start': 55, 'duration': 1},\n",
       " {'pitch': 73, 'start': 57, 'duration': 1},\n",
       " {'pitch': 77, 'start': 56, 'duration': 4},\n",
       " {'pitch': 77, 'start': 63, 'duration': 1},\n",
       " {'pitch': 73, 'start': 68, 'duration': 7},\n",
       " {'pitch': 63, 'start': 80, 'duration': 2},\n",
       " {'pitch': 68, 'start': 81, 'duration': 2},\n",
       " {'pitch': 66, 'start': 77, 'duration': 7},\n",
       " {'pitch': 72, 'start': 81, 'duration': 4},\n",
       " {'pitch': 68, 'start': 84, 'duration': 1},\n",
       " {'pitch': 63, 'start': 87, 'duration': 1},\n",
       " {'pitch': 70, 'start': 85, 'duration': 4},\n",
       " {'pitch': 73, 'start': 85, 'duration': 6},\n",
       " {'pitch': 68, 'start': 90, 'duration': 1},\n",
       " {'pitch': 70, 'start': 91, 'duration': 1},\n",
       " {'pitch': 68, 'start': 93, 'duration': 1},\n",
       " {'pitch': 72, 'start': 93, 'duration': 2},\n",
       " {'pitch': 63, 'start': 122, 'duration': 1},\n",
       " {'pitch': 61, 'start': 123, 'duration': 1},\n",
       " {'pitch': 70, 'start': 125, 'duration': 3},\n",
       " {'pitch': 73, 'start': 128, 'duration': 1},\n",
       " {'pitch': 70, 'start': 129, 'duration': 1},\n",
       " {'pitch': 63, 'start': 129, 'duration': 1},\n",
       " {'pitch': 72, 'start': 129, 'duration': 2}]"
      ]
     },
     "execution_count": 157,
     "metadata": {},
     "output_type": "execute_result"
    }
   ],
   "source": [
    "# create starttime, pitch and endtime\n",
    "\n",
    "notes = []\n",
    "allNotes = []\n",
    "playingNotes = {}\n",
    "for i in range(0, len(frameNotes)):\n",
    "    currNotes = frameNotes[i]\n",
    "    if i is 0:\n",
    "        for note in currNotes:\n",
    "            playingNotes[note] = 0\n",
    "    else:\n",
    "        # find which notes stopped playing\n",
    "        playingNotesCopy = playingNotes.copy()\n",
    "        for note in playingNotes:\n",
    "            startTime = playingNotes[note]\n",
    "            if note not in currNotes:\n",
    "                allNotes.append({\n",
    "                    \"pitch\": note,\n",
    "                    \"start\": startTime,\n",
    "                    \"duration\": i - startTime\n",
    "                })\n",
    "                del playingNotesCopy[note]\n",
    "        \n",
    "        # find which notes started playing\n",
    "        for note in currNotes:\n",
    "            if note not in playingNotes:\n",
    "                playingNotesCopy[note] = i\n",
    "        playingNotes = playingNotesCopy\n",
    "                \n",
    "allNotes           "
   ]
  },
  {
   "cell_type": "code",
   "execution_count": 163,
   "metadata": {},
   "outputs": [],
   "source": [
    "track    = 0\n",
    "channel  = 0\n",
    "time     = 0    # In beats\n",
    "tempo    = 60/ interval   # In BPM\n",
    "volume   = 100  # 0-127, as per the MIDI standard\n",
    "\n",
    "MyMIDI = MIDIFile(1)  # One track, defaults to format 1 (tempo track is created\n",
    "                      # automatically)\n",
    "MyMIDI.addTempo(track, time, tempo)\n",
    "\n",
    "for note in allNotes:\n",
    "    MyMIDI.addNote(track, channel, note[\"pitch\"], note[\"start\"], note[\"duration\"], volume)\n",
    "\n",
    "with open(\"output.mid\", \"wb\") as output_file:\n",
    "    MyMIDI.writeFile(output_file)"
   ]
  },
  {
   "cell_type": "code",
   "execution_count": null,
   "metadata": {},
   "outputs": [],
   "source": []
  }
 ],
 "metadata": {
  "kernelspec": {
   "display_name": "Python 3",
   "language": "python",
   "name": "python3"
  },
  "language_info": {
   "codemirror_mode": {
    "name": "ipython",
    "version": 3
   },
   "file_extension": ".py",
   "mimetype": "text/x-python",
   "name": "python",
   "nbconvert_exporter": "python",
   "pygments_lexer": "ipython3",
   "version": "3.7.7"
  },
  "toc": {
   "base_numbering": 1,
   "nav_menu": {},
   "number_sections": false,
   "sideBar": false,
   "skip_h1_title": false,
   "title_cell": "Table of Contents",
   "title_sidebar": "Contents",
   "toc_cell": false,
   "toc_position": {},
   "toc_section_display": false,
   "toc_window_display": false
  }
 },
 "nbformat": 4,
 "nbformat_minor": 4
}
